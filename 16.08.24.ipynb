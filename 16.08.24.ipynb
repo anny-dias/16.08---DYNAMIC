{
 "cells": [
  {
   "cell_type": "code",
   "execution_count": 16,
   "metadata": {},
   "outputs": [],
   "source": [
    "import pandas as pd"
   ]
  },
  {
   "cell_type": "code",
   "execution_count": 17,
   "metadata": {},
   "outputs": [],
   "source": [
    "# Dados como dicionário\n",
    "dados = {\n",
    "'Nome': ['Ana', 'Bruno', 'Carlos', 'Diana', 'Eduardo'],\n",
    "'Nota': [85, 92, 78, 90, 88]\n",
    "}"
   ]
  },
  {
   "cell_type": "code",
   "execution_count": 18,
   "metadata": {},
   "outputs": [],
   "source": [
    "# Criando um DataFrame\n",
    "df = pd.DataFrame(dados)"
   ]
  },
  {
   "cell_type": "code",
   "execution_count": 19,
   "metadata": {},
   "outputs": [
    {
     "name": "stdout",
     "output_type": "stream",
     "text": [
      "      Nome  Nota\n",
      "1    Bruno    92\n",
      "3    Diana    90\n",
      "4  Eduardo    88\n",
      "0      Ana    85\n",
      "2   Carlos    78\n"
     ]
    }
   ],
   "source": [
    "# Ordenando por Nota (decrescente)\n",
    "df_ordenado = df.sort_values(by='Nota', ascending=False)\n",
    "print(df_ordenado)"
   ]
  },
  {
   "cell_type": "code",
   "execution_count": 20,
   "metadata": {},
   "outputs": [
    {
     "name": "stdout",
     "output_type": "stream",
     "text": [
      "      Nome  Nota\n",
      "2   Carlos    78\n",
      "0      Ana    85\n",
      "4  Eduardo    88\n",
      "3    Diana    90\n",
      "1    Bruno    92\n"
     ]
    }
   ],
   "source": [
    "# Ordenar por Nota (crescente)\n",
    "df_ordenado = df.sort_values(by='Nota', ascending=True)\n",
    "print(df_ordenado)"
   ]
  },
  {
   "cell_type": "code",
   "execution_count": 21,
   "metadata": {},
   "outputs": [
    {
     "name": "stdout",
     "output_type": "stream",
     "text": [
      "      Nome  Nota\n",
      "0      Ana    85\n",
      "1    Bruno    92\n",
      "2   Carlos    78\n",
      "3    Diana    90\n",
      "4  Eduardo    88\n"
     ]
    }
   ],
   "source": [
    "# Ordenar por Nome (crescente)\n",
    "df_ordenado = df.sort_values(by='Nome', ascending=True)\n",
    "print(df_ordenado)"
   ]
  },
  {
   "cell_type": "code",
   "execution_count": 22,
   "metadata": {},
   "outputs": [
    {
     "name": "stdout",
     "output_type": "stream",
     "text": [
      "      Nome  Nota\n",
      "4  Eduardo    88\n",
      "3    Diana    90\n",
      "2   Carlos    78\n",
      "1    Bruno    92\n",
      "0      Ana    85\n"
     ]
    }
   ],
   "source": [
    "# Ordenar por Nome (decrescente)\n",
    "df_ordenado = df.sort_values(by='Nome', ascending=False)\n",
    "print(df_ordenado)"
   ]
  },
  {
   "cell_type": "code",
   "execution_count": 23,
   "metadata": {},
   "outputs": [
    {
     "data": {
      "text/plain": [
       "\"\\n1. Identificando Rotas com Maior Demanda. Uma empresa de transporte por aplicativo, como o\\nUber, deseja identificar quais rotas (origem e destino) têm a maior demanda, para otimizar a\\nalocação de motoristas nessas áreas.\\n    a. Crie um dataframe com as informações abaixo.\\n'Origem': ['Centro', 'Centro', 'Zona Norte', 'Zona Sul', 'Centro', 'Zona Oeste'],\\n'Destino': ['Zona Sul', 'Zona Norte', 'Centro', 'Centro', 'Zona Oeste', 'Centro'],\\n'Quantidade_Corridas': [120, 95, 150, 80, 110, 60]\\n    b. Crie uma estrutura para Identificar rotas com mais de 100 corridas.\\n\""
      ]
     },
     "execution_count": 23,
     "metadata": {},
     "output_type": "execute_result"
    }
   ],
   "source": [
    "#Exercicio \n",
    "'''\n",
    "1. Identificando Rotas com Maior Demanda. Uma empresa de transporte por aplicativo, como o\n",
    "Uber, deseja identificar quais rotas (origem e destino) têm a maior demanda, para otimizar a\n",
    "alocação de motoristas nessas áreas.\n",
    "    a. Crie um dataframe com as informações abaixo.\n",
    "'Origem': ['Centro', 'Centro', 'Zona Norte', 'Zona Sul', 'Centro', 'Zona Oeste'],\n",
    "'Destino': ['Zona Sul', 'Zona Norte', 'Centro', 'Centro', 'Zona Oeste', 'Centro'],\n",
    "'Quantidade_Corridas': [120, 95, 150, 80, 110, 60]\n",
    "    b. Crie uma estrutura para Identificar rotas com mais de 100 corridas.\n",
    "'''"
   ]
  },
  {
   "cell_type": "code",
   "execution_count": 24,
   "metadata": {},
   "outputs": [],
   "source": [
    "import pandas as pd"
   ]
  },
  {
   "cell_type": "code",
   "execution_count": 25,
   "metadata": {},
   "outputs": [],
   "source": [
    "dados = {\n",
    "    'Origem': ['Centro', 'Centro', 'Zona Norte', 'Zona Sul', 'Centro', 'Zona Oeste'],\n",
    "    'Destino': ['Zona Sul', 'Zona Norte', 'Centro', 'Centro', 'Zona Oeste', 'Centro'],\n",
    "    'Quantidade_Corridas': [120, 95, 150, 80, 110, 60]\n",
    "}\n"
   ]
  },
  {
   "cell_type": "code",
   "execution_count": 26,
   "metadata": {},
   "outputs": [],
   "source": [
    "df = pd.DataFrame(dados)"
   ]
  },
  {
   "cell_type": "code",
   "execution_count": 27,
   "metadata": {},
   "outputs": [
    {
     "name": "stdout",
     "output_type": "stream",
     "text": [
      "[('Centro', 'Zona Sul'), ('Zona Norte', 'Centro'), ('Centro', 'Zona Oeste')]\n"
     ]
    }
   ],
   "source": [
    "rotas_alta_demanda = []\n",
    "\n",
    "for index, row in df.iterrows():\n",
    "    if row['Quantidade_Corridas'] > 100:\n",
    "        rotas_alta_demanda.append((row['Origem'], row['Destino']))\n",
    "        \n",
    "print(rotas_alta_demanda)"
   ]
  },
  {
   "cell_type": "code",
   "execution_count": 28,
   "metadata": {},
   "outputs": [
    {
     "data": {
      "text/plain": [
       "\"\\n2. Analisando Vendas para Identificar Produtos com Alta Receita. Em uma análise de vendas,\\ndeseja-se identificar todos os produtos que geraram uma receita (quantidade vendida * preço)\\nmaior que R$ 1.000,00.\\n    a. Crie um dataframe com as informações abaixo.\\n        'Produto': ['Camiseta', 'Calça', 'Tênis', 'Boné', 'Jaqueta']\\n        'Quantidade_Vendida': [50, 20, 10, 15, 5]\\n        'Preco': [30, 150, 200, 40, 500]\\n    b. Crie uma estrutura para calcular a quantidade x preço.\\n    c. Crie uma estrutura para calcular receita e identificar produtos com alta receita.\\n\""
      ]
     },
     "execution_count": 28,
     "metadata": {},
     "output_type": "execute_result"
    }
   ],
   "source": [
    "'''\n",
    "2. Analisando Vendas para Identificar Produtos com Alta Receita. Em uma análise de vendas,\n",
    "deseja-se identificar todos os produtos que geraram uma receita (quantidade vendida * preço)\n",
    "maior que R$ 1.000,00.\n",
    "    a. Crie um dataframe com as informações abaixo.\n",
    "        'Produto': ['Camiseta', 'Calça', 'Tênis', 'Boné', 'Jaqueta']\n",
    "        'Quantidade_Vendida': [50, 20, 10, 15, 5]\n",
    "        'Preco': [30, 150, 200, 40, 500]\n",
    "    b. Crie uma estrutura para calcular a quantidade x preço.\n",
    "    c. Crie uma estrutura para calcular receita e identificar produtos com alta receita.\n",
    "'''"
   ]
  },
  {
   "cell_type": "code",
   "execution_count": 29,
   "metadata": {},
   "outputs": [],
   "source": [
    "import pandas as pd"
   ]
  },
  {
   "cell_type": "code",
   "execution_count": 30,
   "metadata": {},
   "outputs": [],
   "source": [
    "dados = {\n",
    "    'Produto': ['Camiseta', 'Calça', 'Tênis', 'Boné', 'Jaqueta'],\n",
    "    'Quantidade_Vendida': [50, 20, 10, 15, 5],\n",
    "    'Preco': [30, 150, 200, 40, 500]\n",
    "}\n"
   ]
  },
  {
   "cell_type": "code",
   "execution_count": 31,
   "metadata": {},
   "outputs": [],
   "source": [
    "df = pd.DataFrame(dados)"
   ]
  },
  {
   "cell_type": "code",
   "execution_count": 32,
   "metadata": {},
   "outputs": [
    {
     "ename": "NameError",
     "evalue": "name 'produtos_alta_receita' is not defined",
     "output_type": "error",
     "traceback": [
      "\u001b[1;31m---------------------------------------------------------------------------\u001b[0m",
      "\u001b[1;31mNameError\u001b[0m                                 Traceback (most recent call last)",
      "Cell \u001b[1;32mIn[32], line 4\u001b[0m\n\u001b[0;32m      2\u001b[0m     receita \u001b[38;5;241m=\u001b[39m row[\u001b[38;5;124m'\u001b[39m\u001b[38;5;124mQuantidade_Vendida\u001b[39m\u001b[38;5;124m'\u001b[39m] \u001b[38;5;241m*\u001b[39m row[\u001b[38;5;124m'\u001b[39m\u001b[38;5;124mPreco\u001b[39m\u001b[38;5;124m'\u001b[39m]\n\u001b[0;32m      3\u001b[0m     \u001b[38;5;28;01mif\u001b[39;00m receita \u001b[38;5;241m>\u001b[39m \u001b[38;5;241m1000\u001b[39m:\n\u001b[1;32m----> 4\u001b[0m         \u001b[43mprodutos_alta_receita\u001b[49m\u001b[38;5;241m.\u001b[39mappend(row[\u001b[38;5;124m'\u001b[39m\u001b[38;5;124mProduto\u001b[39m\u001b[38;5;124m'\u001b[39m])\n\u001b[0;32m      6\u001b[0m \u001b[38;5;28mprint\u001b[39m(produtos_alta_receita)\n",
      "\u001b[1;31mNameError\u001b[0m: name 'produtos_alta_receita' is not defined"
     ]
    }
   ],
   "source": [
    "for index, row in df.iterrows():\n",
    "    receita = row['Quantidade_Vendida'] * row['Preco']\n",
    "    if receita > 1000:\n",
    "        produtos_alta_receita.append(row['Produto'])\n",
    "        \n",
    "print(produtos_alta_receita)"
   ]
  }
 ],
 "metadata": {
  "kernelspec": {
   "display_name": "Python 3",
   "language": "python",
   "name": "python3"
  },
  "language_info": {
   "codemirror_mode": {
    "name": "ipython",
    "version": 3
   },
   "file_extension": ".py",
   "mimetype": "text/x-python",
   "name": "python",
   "nbconvert_exporter": "python",
   "pygments_lexer": "ipython3",
   "version": "3.12.3"
  }
 },
 "nbformat": 4,
 "nbformat_minor": 2
}
